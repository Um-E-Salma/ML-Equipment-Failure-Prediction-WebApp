{
  "cells": [
    {
      "cell_type": "markdown",
      "id": "rFNnA0_aL49O",
      "metadata": {
        "id": "rFNnA0_aL49O"
      },
      "source": [
        "### Imports"
      ]
    },
    {
      "cell_type": "code",
      "execution_count": 1,
      "id": "t09G4YPGL7IX",
      "metadata": {
        "id": "t09G4YPGL7IX"
      },
      "outputs": [],
      "source": [
        "import pandas as pd\n",
        "import numpy as np\n",
        "import pickle\n",
        "from sklearn.preprocessing import StandardScaler, OneHotEncoder\n",
        "from sklearn.model_selection import train_test_split\n",
        "from sklearn.compose import ColumnTransformer\n",
        "from sklearn.pipeline import Pipeline\n",
        "from sklearn.decomposition import PCA, TruncatedSVD\n",
        "from sklearn.ensemble import RandomForestClassifier, GradientBoostingClassifier, AdaBoostClassifier\n",
        "from sklearn.linear_model import LogisticRegression\n",
        "from sklearn.tree import DecisionTreeClassifier\n",
        "from sklearn.svm import SVC\n",
        "from sklearn.metrics import accuracy_score, classification_report, confusion_matrix\n",
        "from sklearn.model_selection import GridSearchCV"
      ]
    },
    {
      "cell_type": "markdown",
      "id": "42fab505",
      "metadata": {
        "id": "42fab505"
      },
      "source": [
        "\n",
        "# Data Preprocessing & Feature Engineering\n"
      ]
    },
    {
      "cell_type": "code",
      "execution_count": 2,
      "id": "r7WSrgbZEKqx",
      "metadata": {
        "id": "r7WSrgbZEKqx"
      },
      "outputs": [],
      "source": [
        "# Load datasets\n",
        "equipment_list = pd.read_excel('/content/1-Equipment-List.xlsx')\n",
        "utilization = pd.read_excel('/content/2-Equipment-Utilization.xlsx')\n",
        "maintenance_history = pd.read_excel('/content/3-Equipment-Maintenance-History.xlsx')\n",
        "\n",
        "# Data Cleaning and Preparation\n",
        "def convert_column_to_string(df, column_name):\n",
        "    df[column_name] = df[column_name].astype(str)\n",
        "    return df\n",
        "\n",
        "# Convert 'EquiID' columns to string\n",
        "equipment_list = convert_column_to_string(equipment_list, 'EquiID')\n",
        "utilization = convert_column_to_string(utilization, 'EquiID')\n",
        "maintenance_history = convert_column_to_string(maintenance_history, 'EquiID')\n",
        "\n",
        "# Handle missing values\n",
        "equipment_list['Equipment Type'].fillna('Unknown', inplace=True)\n",
        "equipment_list['Manufacture_Year'].fillna(equipment_list['Manufacture_Year'].median(), inplace=True)\n",
        "\n",
        "utilization['OutDate'].fillna(pd.Timestamp('1970-01-01'), inplace=True)\n",
        "utilization['InDate'].fillna(pd.Timestamp('1970-01-01'), inplace=True)\n",
        "\n",
        "maintenance_history['Maintenance_Commnets'].fillna('No comments', inplace=True)\n",
        "maintenance_history['Maintenance_Date'].fillna(pd.Timestamp('1970-01-01'), inplace=True)\n",
        "\n",
        "# Convert datetime columns to datetime type in utilization\n",
        "utilization['OutDate'] = pd.to_datetime(utilization['OutDate'], errors='coerce')\n",
        "utilization['InDate'] = pd.to_datetime(utilization['InDate'], errors='coerce')\n",
        "\n",
        "# Calculate utilization duration in hours\n",
        "utilization['Utilization_Duration'] = (utilization['InDate'] - utilization['OutDate']).dt.total_seconds() / 3600  # in hours\n",
        "\n",
        "# Merge equipment_list and utilization data\n",
        "merged_data = pd.merge(utilization, equipment_list, on='EquiID', how='left')\n",
        "\n",
        "# Remove 'Production' from the 'Maintenance_Catagory'\n",
        "maintenance_history_filtered = maintenance_history[maintenance_history['Maintenance_Catagory'] != 'Production'].copy()\n",
        "\n",
        "# Create the Failure column based on 'Maintenance_Catagory'\n",
        "maintenance_history_filtered.loc[:, 'Failure'] = np.where(\n",
        "    maintenance_history_filtered['Maintenance_Catagory'] == 'Breakdown Repair', 1,\n",
        "    np.where(\n",
        "        maintenance_history_filtered['Maintenance_Catagory'] == 'Preventive Maintenance', 0,\n",
        "        np.nan  # Handle other cases if any\n",
        "    )\n",
        ")\n",
        "\n",
        "# Groupby 'EquiID' to aggregate the failure column\n",
        "maintenance_aggregated = maintenance_history_filtered.groupby('EquiID')['Failure'].max().reset_index()\n",
        "\n",
        "# Merge the aggregated failure data with the merged_data\n",
        "merged_data = pd.merge(merged_data, maintenance_aggregated, on='EquiID', how='left')\n",
        "\n",
        "# Fill any missing failure values with 0 (if no failure was reported for that equipment)\n",
        "merged_data['Failure'].fillna(0, inplace=True)"
      ]
    },
    {
      "cell_type": "code",
      "execution_count": 10,
      "id": "fc0b8730",
      "metadata": {
        "id": "fc0b8730"
      },
      "outputs": [],
      "source": [
        "# Prepare the dataset for PCA and modeling\n",
        "features = merged_data.drop(columns=['Failure', 'JONO', 'Specification', 'E_AddedDate', 'Utilization_Duration'])\n",
        "target = merged_data['Failure']\n",
        "\n",
        "# Identify categorical and numerical columns\n",
        "categorical_features = features.select_dtypes(include=['object']).columns.tolist()\n",
        "numerical_features = features.select_dtypes(include=[np.number]).columns.tolist()\n",
        "\n",
        "# Preprocessing for numerical data: Scaling\n",
        "numerical_transformer = StandardScaler()\n",
        "\n",
        "# Preprocessing for categorical data: Encoding\n",
        "categorical_transformer = OneHotEncoder(handle_unknown='ignore', sparse_output=False)\n",
        "\n",
        "# Combine preprocessing steps\n",
        "preprocessor = ColumnTransformer(\n",
        "    transformers=[\n",
        "        ('num', numerical_transformer, numerical_features),\n",
        "        ('cat', categorical_transformer, categorical_features)\n",
        "    ])\n",
        "# Split the data into training and testing sets\n",
        "X_train, X_test, y_train, y_test = train_test_split(features, target, test_size=0.3, random_state=42)\n",
        "\n",
        "# Apply preprocessing and dimensionality reduction separately\n",
        "preprocessed_X_train = preprocessor.fit_transform(X_train)\n",
        "preprocessed_X_test = preprocessor.transform(X_test)\n",
        "\n",
        "# Choose dimensionality reduction technique based on the number of features\n",
        "if preprocessed_X_train.shape[1] > 10:  # Arbitrary threshold, adjust if necessary\n",
        "    # Use TruncatedSVD for sparse data\n",
        "    dim_reduction = TruncatedSVD(n_components=min(preprocessed_X_train.shape[1], 50))  # Limit to 50 components or total features\n",
        "else:\n",
        "    # Use PCA for dense data\n",
        "    dim_reduction = PCA(n_components=0.95)  # Retain 95% of variance\n",
        "\n",
        "# Apply dimensionality reduction\n",
        "X_train_reduced = dim_reduction.fit_transform(preprocessed_X_train)\n",
        "X_test_reduced = dim_reduction.transform(preprocessed_X_test)\n"
      ]
    },
    {
      "cell_type": "markdown",
      "id": "e74a1f2f",
      "metadata": {
        "id": "e74a1f2f"
      },
      "source": [
        "# Models"
      ]
    },
    {
      "cell_type": "code",
      "execution_count": 11,
      "id": "8pSkovKzETmd",
      "metadata": {
        "colab": {
          "base_uri": "https://localhost:8080/"
        },
        "id": "8pSkovKzETmd",
        "outputId": "965eac33-eb3f-47b6-92ee-6cca9f1cf9dd"
      },
      "outputs": [
        {
          "name": "stdout",
          "output_type": "stream",
          "text": [
            "Training Logistic Regression...\n",
            "Results for Logistic Regression:\n",
            "Accuracy: 1.00\n",
            "Classification Report:\n",
            "              precision    recall  f1-score   support\n",
            "\n",
            "         0.0       0.00      0.00      0.00        25\n",
            "         1.0       1.00      1.00      1.00      6867\n",
            "\n",
            "    accuracy                           1.00      6892\n",
            "   macro avg       0.50      0.50      0.50      6892\n",
            "weighted avg       0.99      1.00      0.99      6892\n",
            "\n",
            "Confusion Matrix:\n",
            "[[   0   25]\n",
            " [   0 6867]]\n",
            "----------------------------------------\n",
            "Training Random Forest...\n"
          ]
        },
        {
          "name": "stderr",
          "output_type": "stream",
          "text": [
            "/usr/local/lib/python3.10/dist-packages/sklearn/metrics/_classification.py:1471: UndefinedMetricWarning: Precision and F-score are ill-defined and being set to 0.0 in labels with no predicted samples. Use `zero_division` parameter to control this behavior.\n",
            "  _warn_prf(average, modifier, msg_start, len(result))\n",
            "/usr/local/lib/python3.10/dist-packages/sklearn/metrics/_classification.py:1471: UndefinedMetricWarning: Precision and F-score are ill-defined and being set to 0.0 in labels with no predicted samples. Use `zero_division` parameter to control this behavior.\n",
            "  _warn_prf(average, modifier, msg_start, len(result))\n",
            "/usr/local/lib/python3.10/dist-packages/sklearn/metrics/_classification.py:1471: UndefinedMetricWarning: Precision and F-score are ill-defined and being set to 0.0 in labels with no predicted samples. Use `zero_division` parameter to control this behavior.\n",
            "  _warn_prf(average, modifier, msg_start, len(result))\n"
          ]
        },
        {
          "name": "stdout",
          "output_type": "stream",
          "text": [
            "Results for Random Forest:\n",
            "Accuracy: 1.00\n",
            "Classification Report:\n",
            "              precision    recall  f1-score   support\n",
            "\n",
            "         0.0       1.00      0.24      0.39        25\n",
            "         1.0       1.00      1.00      1.00      6867\n",
            "\n",
            "    accuracy                           1.00      6892\n",
            "   macro avg       1.00      0.62      0.69      6892\n",
            "weighted avg       1.00      1.00      1.00      6892\n",
            "\n",
            "Confusion Matrix:\n",
            "[[   6   19]\n",
            " [   0 6867]]\n",
            "----------------------------------------\n",
            "Training Gradient Boosting...\n",
            "Results for Gradient Boosting:\n",
            "Accuracy: 1.00\n",
            "Classification Report:\n",
            "              precision    recall  f1-score   support\n",
            "\n",
            "         0.0       0.60      0.60      0.60        25\n",
            "         1.0       1.00      1.00      1.00      6867\n",
            "\n",
            "    accuracy                           1.00      6892\n",
            "   macro avg       0.80      0.80      0.80      6892\n",
            "weighted avg       1.00      1.00      1.00      6892\n",
            "\n",
            "Confusion Matrix:\n",
            "[[  15   10]\n",
            " [  10 6857]]\n",
            "----------------------------------------\n",
            "Training AdaBoost...\n",
            "Results for AdaBoost:\n",
            "Accuracy: 1.00\n",
            "Classification Report:\n",
            "              precision    recall  f1-score   support\n",
            "\n",
            "         0.0       0.85      0.44      0.58        25\n",
            "         1.0       1.00      1.00      1.00      6867\n",
            "\n",
            "    accuracy                           1.00      6892\n",
            "   macro avg       0.92      0.72      0.79      6892\n",
            "weighted avg       1.00      1.00      1.00      6892\n",
            "\n",
            "Confusion Matrix:\n",
            "[[  11   14]\n",
            " [   2 6865]]\n",
            "----------------------------------------\n",
            "Training Decision Tree...\n",
            "Results for Decision Tree:\n",
            "Accuracy: 1.00\n",
            "Classification Report:\n",
            "              precision    recall  f1-score   support\n",
            "\n",
            "         0.0       0.42      0.52      0.46        25\n",
            "         1.0       1.00      1.00      1.00      6867\n",
            "\n",
            "    accuracy                           1.00      6892\n",
            "   macro avg       0.71      0.76      0.73      6892\n",
            "weighted avg       1.00      1.00      1.00      6892\n",
            "\n",
            "Confusion Matrix:\n",
            "[[  13   12]\n",
            " [  18 6849]]\n",
            "----------------------------------------\n",
            "Training SVM...\n",
            "Results for SVM:\n",
            "Accuracy: 1.00\n",
            "Classification Report:\n",
            "              precision    recall  f1-score   support\n",
            "\n",
            "         0.0       0.00      0.00      0.00        25\n",
            "         1.0       1.00      1.00      1.00      6867\n",
            "\n",
            "    accuracy                           1.00      6892\n",
            "   macro avg       0.50      0.50      0.50      6892\n",
            "weighted avg       0.99      1.00      0.99      6892\n",
            "\n",
            "Confusion Matrix:\n",
            "[[   0   25]\n",
            " [   0 6867]]\n",
            "----------------------------------------\n"
          ]
        },
        {
          "name": "stderr",
          "output_type": "stream",
          "text": [
            "/usr/local/lib/python3.10/dist-packages/sklearn/metrics/_classification.py:1471: UndefinedMetricWarning: Precision and F-score are ill-defined and being set to 0.0 in labels with no predicted samples. Use `zero_division` parameter to control this behavior.\n",
            "  _warn_prf(average, modifier, msg_start, len(result))\n",
            "/usr/local/lib/python3.10/dist-packages/sklearn/metrics/_classification.py:1471: UndefinedMetricWarning: Precision and F-score are ill-defined and being set to 0.0 in labels with no predicted samples. Use `zero_division` parameter to control this behavior.\n",
            "  _warn_prf(average, modifier, msg_start, len(result))\n",
            "/usr/local/lib/python3.10/dist-packages/sklearn/metrics/_classification.py:1471: UndefinedMetricWarning: Precision and F-score are ill-defined and being set to 0.0 in labels with no predicted samples. Use `zero_division` parameter to control this behavior.\n",
            "  _warn_prf(average, modifier, msg_start, len(result))\n"
          ]
        }
      ],
      "source": [
        "\n",
        "\n",
        "# Define models\n",
        "models = {\n",
        "    'Logistic Regression': LogisticRegression(),\n",
        "    'Random Forest': RandomForestClassifier(),\n",
        "    'Gradient Boosting': GradientBoostingClassifier(),\n",
        "    'AdaBoost': AdaBoostClassifier(),\n",
        "    'Decision Tree': DecisionTreeClassifier(),\n",
        "    'SVM': SVC()\n",
        "}\n",
        "\n",
        "# Train and evaluate models\n",
        "for name, model in models.items():\n",
        "    print(f\"Training {name}...\")\n",
        "    model.fit(X_train_reduced, y_train)\n",
        "    y_pred = model.predict(X_test_reduced)\n",
        "\n",
        "    print(f\"Results for {name}:\")\n",
        "    print(f\"Accuracy: {accuracy_score(y_test, y_pred):.2f}\")\n",
        "    print(\"Classification Report:\")\n",
        "    print(classification_report(y_test, y_pred))\n",
        "    print(\"Confusion Matrix:\")\n",
        "    print(confusion_matrix(y_test, y_pred))\n",
        "    print(\"-\" * 40)\n"
      ]
    },
    {
      "cell_type": "markdown",
      "id": "14SOTrgfJsNN",
      "metadata": {
        "id": "14SOTrgfJsNN"
      },
      "source": [
        "# (a). Hyperparameters tunning"
      ]
    },
    {
      "cell_type": "code",
      "execution_count": 12,
      "id": "w82c3iAkF_dd",
      "metadata": {
        "colab": {
          "base_uri": "https://localhost:8080/"
        },
        "id": "w82c3iAkF_dd",
        "outputId": "623aab92-3864-49ce-abb1-ddcc565682ec"
      },
      "outputs": [
        {
          "name": "stdout",
          "output_type": "stream",
          "text": [
            "Best parameters for Random Forest: {'max_depth': 30, 'n_estimators': 100}\n"
          ]
        }
      ],
      "source": [
        "# Hyperparameter tuning example for Random Forest\n",
        "param_grid = {\n",
        "    'n_estimators': [50, 100, 200],\n",
        "    'max_depth': [None, 10, 20, 30]\n",
        "}\n",
        "\n",
        "grid_search = GridSearchCV(estimator=RandomForestClassifier(), param_grid=param_grid, cv=5, scoring='accuracy')\n",
        "grid_search.fit(X_train_reduced, y_train)\n",
        "print(f\"Best parameters for Random Forest: {grid_search.best_params_}\")\n"
      ]
    },
    {
      "cell_type": "markdown",
      "id": "h_uPg9eUJxxa",
      "metadata": {
        "id": "h_uPg9eUJxxa"
      },
      "source": [
        "# Feature importance"
      ]
    },
    {
      "cell_type": "code",
      "execution_count": 13,
      "id": "CUJXTIYkIply",
      "metadata": {
        "colab": {
          "base_uri": "https://localhost:8080/"
        },
        "id": "CUJXTIYkIply",
        "outputId": "bd4de35e-8a3b-4b3a-a9f6-0d4c4be2327f"
      },
      "outputs": [
        {
          "name": "stdout",
          "output_type": "stream",
          "text": [
            "Feature importances: [0.04706408 0.0709594  0.0436221  0.02641602 0.03877285 0.01931933\n",
            " 0.04541381 0.05617688 0.03949702 0.02026144 0.02333813 0.02666155\n",
            " 0.03074268 0.01598437 0.01808953 0.01839496 0.01116465 0.02005652\n",
            " 0.01992702 0.00936747 0.01149925 0.01443634 0.01618413 0.01430781\n",
            " 0.0064125  0.00986024 0.01616258 0.01136851 0.01000059 0.01211781\n",
            " 0.01192986 0.01250427 0.008366   0.01031701 0.01133907 0.02730531\n",
            " 0.02143233 0.01119366 0.01097315 0.01684806 0.01201983 0.01917741\n",
            " 0.01211871 0.01049479 0.00821553 0.01734473 0.01268951 0.01183555\n",
            " 0.01739746 0.01291818]\n"
          ]
        }
      ],
      "source": [
        "# Feature importance example with Random Forest\n",
        "rf_model = RandomForestClassifier().fit(X_train_reduced, y_train)\n",
        "importances = rf_model.feature_importances_\n",
        "print(f\"Feature importances: {importances}\")"
      ]
    },
    {
      "cell_type": "markdown",
      "id": "pfLL4l_pKpM0",
      "metadata": {
        "id": "pfLL4l_pKpM0"
      },
      "source": [
        "# Update RandomForest model with best parameters"
      ]
    },
    {
      "cell_type": "code",
      "execution_count": 14,
      "id": "3RcfSAR0KTSF",
      "metadata": {
        "colab": {
          "base_uri": "https://localhost:8080/",
          "height": 74
        },
        "id": "3RcfSAR0KTSF",
        "outputId": "974a9343-2586-4967-a6e5-479f6112993f"
      },
      "outputs": [
        {
          "data": {
            "text/html": [
              "<style>#sk-container-id-1 {color: black;}#sk-container-id-1 pre{padding: 0;}#sk-container-id-1 div.sk-toggleable {background-color: white;}#sk-container-id-1 label.sk-toggleable__label {cursor: pointer;display: block;width: 100%;margin-bottom: 0;padding: 0.3em;box-sizing: border-box;text-align: center;}#sk-container-id-1 label.sk-toggleable__label-arrow:before {content: \"▸\";float: left;margin-right: 0.25em;color: #696969;}#sk-container-id-1 label.sk-toggleable__label-arrow:hover:before {color: black;}#sk-container-id-1 div.sk-estimator:hover label.sk-toggleable__label-arrow:before {color: black;}#sk-container-id-1 div.sk-toggleable__content {max-height: 0;max-width: 0;overflow: hidden;text-align: left;background-color: #f0f8ff;}#sk-container-id-1 div.sk-toggleable__content pre {margin: 0.2em;color: black;border-radius: 0.25em;background-color: #f0f8ff;}#sk-container-id-1 input.sk-toggleable__control:checked~div.sk-toggleable__content {max-height: 200px;max-width: 100%;overflow: auto;}#sk-container-id-1 input.sk-toggleable__control:checked~label.sk-toggleable__label-arrow:before {content: \"▾\";}#sk-container-id-1 div.sk-estimator input.sk-toggleable__control:checked~label.sk-toggleable__label {background-color: #d4ebff;}#sk-container-id-1 div.sk-label input.sk-toggleable__control:checked~label.sk-toggleable__label {background-color: #d4ebff;}#sk-container-id-1 input.sk-hidden--visually {border: 0;clip: rect(1px 1px 1px 1px);clip: rect(1px, 1px, 1px, 1px);height: 1px;margin: -1px;overflow: hidden;padding: 0;position: absolute;width: 1px;}#sk-container-id-1 div.sk-estimator {font-family: monospace;background-color: #f0f8ff;border: 1px dotted black;border-radius: 0.25em;box-sizing: border-box;margin-bottom: 0.5em;}#sk-container-id-1 div.sk-estimator:hover {background-color: #d4ebff;}#sk-container-id-1 div.sk-parallel-item::after {content: \"\";width: 100%;border-bottom: 1px solid gray;flex-grow: 1;}#sk-container-id-1 div.sk-label:hover label.sk-toggleable__label {background-color: #d4ebff;}#sk-container-id-1 div.sk-serial::before {content: \"\";position: absolute;border-left: 1px solid gray;box-sizing: border-box;top: 0;bottom: 0;left: 50%;z-index: 0;}#sk-container-id-1 div.sk-serial {display: flex;flex-direction: column;align-items: center;background-color: white;padding-right: 0.2em;padding-left: 0.2em;position: relative;}#sk-container-id-1 div.sk-item {position: relative;z-index: 1;}#sk-container-id-1 div.sk-parallel {display: flex;align-items: stretch;justify-content: center;background-color: white;position: relative;}#sk-container-id-1 div.sk-item::before, #sk-container-id-1 div.sk-parallel-item::before {content: \"\";position: absolute;border-left: 1px solid gray;box-sizing: border-box;top: 0;bottom: 0;left: 50%;z-index: -1;}#sk-container-id-1 div.sk-parallel-item {display: flex;flex-direction: column;z-index: 1;position: relative;background-color: white;}#sk-container-id-1 div.sk-parallel-item:first-child::after {align-self: flex-end;width: 50%;}#sk-container-id-1 div.sk-parallel-item:last-child::after {align-self: flex-start;width: 50%;}#sk-container-id-1 div.sk-parallel-item:only-child::after {width: 0;}#sk-container-id-1 div.sk-dashed-wrapped {border: 1px dashed gray;margin: 0 0.4em 0.5em 0.4em;box-sizing: border-box;padding-bottom: 0.4em;background-color: white;}#sk-container-id-1 div.sk-label label {font-family: monospace;font-weight: bold;display: inline-block;line-height: 1.2em;}#sk-container-id-1 div.sk-label-container {text-align: center;}#sk-container-id-1 div.sk-container {/* jupyter's `normalize.less` sets `[hidden] { display: none; }` but bootstrap.min.css set `[hidden] { display: none !important; }` so we also need the `!important` here to be able to override the default hidden behavior on the sphinx rendered scikit-learn.org. See: https://github.com/scikit-learn/scikit-learn/issues/21755 */display: inline-block !important;position: relative;}#sk-container-id-1 div.sk-text-repr-fallback {display: none;}</style><div id=\"sk-container-id-1\" class=\"sk-top-container\"><div class=\"sk-text-repr-fallback\"><pre>RandomForestClassifier(n_estimators=50)</pre><b>In a Jupyter environment, please rerun this cell to show the HTML representation or trust the notebook. <br />On GitHub, the HTML representation is unable to render, please try loading this page with nbviewer.org.</b></div><div class=\"sk-container\" hidden><div class=\"sk-item\"><div class=\"sk-estimator sk-toggleable\"><input class=\"sk-toggleable__control sk-hidden--visually\" id=\"sk-estimator-id-1\" type=\"checkbox\" checked><label for=\"sk-estimator-id-1\" class=\"sk-toggleable__label sk-toggleable__label-arrow\">RandomForestClassifier</label><div class=\"sk-toggleable__content\"><pre>RandomForestClassifier(n_estimators=50)</pre></div></div></div></div></div>"
            ],
            "text/plain": [
              "RandomForestClassifier(n_estimators=50)"
            ]
          },
          "execution_count": 14,
          "metadata": {},
          "output_type": "execute_result"
        }
      ],
      "source": [
        "# Initialize the Random Forest model with best parameters\n",
        "best_rf_model = RandomForestClassifier(max_depth=None, n_estimators=50)\n",
        "\n",
        "# Train the updated model\n",
        "best_rf_model.fit(X_train_reduced, y_train)"
      ]
    },
    {
      "cell_type": "markdown",
      "id": "Ll5TnOCXK3SP",
      "metadata": {
        "id": "Ll5TnOCXK3SP"
      },
      "source": [
        "# Evaluation on Best Prams"
      ]
    },
    {
      "cell_type": "code",
      "execution_count": 15,
      "id": "LwIpzt_qKi2w",
      "metadata": {
        "colab": {
          "base_uri": "https://localhost:8080/"
        },
        "id": "LwIpzt_qKi2w",
        "outputId": "f6f6f469-7e6f-423e-f4fb-deeccd6fa2fc"
      },
      "outputs": [
        {
          "name": "stdout",
          "output_type": "stream",
          "text": [
            "Results for Optimized Random Forest:\n",
            "Accuracy: 1.00\n",
            "Classification Report:\n",
            "              precision    recall  f1-score   support\n",
            "\n",
            "         0.0       0.88      0.28      0.42        25\n",
            "         1.0       1.00      1.00      1.00      6867\n",
            "\n",
            "    accuracy                           1.00      6892\n",
            "   macro avg       0.94      0.64      0.71      6892\n",
            "weighted avg       1.00      1.00      1.00      6892\n",
            "\n",
            "Confusion Matrix:\n",
            "[[   7   18]\n",
            " [   1 6866]]\n",
            "----------------------------------------\n"
          ]
        }
      ],
      "source": [
        "# Predict on the test set\n",
        "y_pred_rf = best_rf_model.predict(X_test_reduced)\n",
        "\n",
        "# Print evaluation metrics\n",
        "print(\"Results for Optimized Random Forest:\")\n",
        "print(f\"Accuracy: {accuracy_score(y_test, y_pred_rf):.2f}\")\n",
        "print(\"Classification Report:\")\n",
        "print(classification_report(y_test, y_pred_rf))\n",
        "print(\"Confusion Matrix:\")\n",
        "print(confusion_matrix(y_test, y_pred_rf))\n",
        "print(\"-\" * 40)\n"
      ]
    },
    {
      "cell_type": "code",
      "execution_count": null,
      "id": "AlKj9BvlK0Ez",
      "metadata": {
        "id": "AlKj9BvlK0Ez"
      },
      "outputs": [],
      "source": [
        "# Save best Random Forest model\n",
        "with open('best_rf_model.pkl', 'wb') as f:\n",
        "    pickle.dump(best_rf_model, f)\n",
        "\n",
        "# Save dimensionality reduction model\n",
        "with open('dim_reduction.pkl', 'wb') as f:\n",
        "    pickle.dump(dim_reduction, f)\n",
        "\n",
        "# Save preprocessor (scaler and encoder)\n",
        "with open('preprocessor.pkl', 'wb') as f:\n",
        "    pickle.dump(preprocessor, f)\n",
        "\n",
        "print(\"Models saved successfully!\")"
      ]
    }
  ],
  "metadata": {
    "accelerator": "GPU",
    "colab": {
      "gpuType": "T4",
      "provenance": []
    },
    "kernelspec": {
      "display_name": "Python 3 (ipykernel)",
      "language": "python",
      "name": "python3"
    },
    "language_info": {
      "codemirror_mode": {
        "name": "ipython",
        "version": 3
      },
      "file_extension": ".py",
      "mimetype": "text/x-python",
      "name": "python",
      "nbconvert_exporter": "python",
      "pygments_lexer": "ipython3",
      "version": "3.9.7"
    }
  },
  "nbformat": 4,
  "nbformat_minor": 5
}
